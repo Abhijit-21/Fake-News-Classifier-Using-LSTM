{
  "nbformat": 4,
  "nbformat_minor": 0,
  "metadata": {
    "colab": {
      "name": "Fake News Classifier.ipynb",
      "provenance": [],
      "private_outputs": true,
      "collapsed_sections": []
    },
    "kernelspec": {
      "name": "python3",
      "display_name": "Python 3"
    },
    "accelerator": "GPU"
  },
  "cells": [
    {
      "cell_type": "code",
      "metadata": {
        "id": "PBF6bNOHo1Bo"
      },
      "source": [
        "import pandas as pd"
      ],
      "execution_count": null,
      "outputs": []
    },
    {
      "cell_type": "code",
      "metadata": {
        "id": "ION_8SzaxhH7"
      },
      "source": [
        "df=pd.read_csv('train.csv')"
      ],
      "execution_count": null,
      "outputs": []
    },
    {
      "cell_type": "code",
      "metadata": {
        "id": "fLlMSqDkyIjK"
      },
      "source": [
        "df.head()"
      ],
      "execution_count": null,
      "outputs": []
    },
    {
      "cell_type": "code",
      "metadata": {
        "id": "90WGBIqyyMDk"
      },
      "source": [
        "df.isnull().sum()"
      ],
      "execution_count": null,
      "outputs": []
    },
    {
      "cell_type": "code",
      "metadata": {
        "id": "AFCAkV9hyRfd"
      },
      "source": [
        "# Drop Nan Values\n",
        "df=df.dropna()"
      ],
      "execution_count": null,
      "outputs": []
    },
    {
      "cell_type": "code",
      "metadata": {
        "id": "ZR1YbJ3CyVlx"
      },
      "source": [
        "## Get the Independent Features\n",
        "X=df.drop('label',axis=1)"
      ],
      "execution_count": null,
      "outputs": []
    },
    {
      "cell_type": "code",
      "metadata": {
        "id": "a_XX6SXNyoXh"
      },
      "source": [
        "\n",
        "## Get the Dependent features\n",
        "y=df['label']"
      ],
      "execution_count": null,
      "outputs": []
    },
    {
      "cell_type": "code",
      "metadata": {
        "id": "aKy2Z2RJytlk"
      },
      "source": [
        "X.shape,y.shape"
      ],
      "execution_count": null,
      "outputs": []
    },
    {
      "cell_type": "code",
      "metadata": {
        "id": "dMzyHUsoyy0z"
      },
      "source": [
        "import tensorflow as tf"
      ],
      "execution_count": null,
      "outputs": []
    },
    {
      "cell_type": "code",
      "metadata": {
        "id": "yhFuECity3Dx"
      },
      "source": [
        "\n",
        "#tf.__version__"
      ],
      "execution_count": null,
      "outputs": []
    },
    {
      "cell_type": "code",
      "metadata": {
        "id": "OZxlBlRYy6Ov"
      },
      "source": [
        "# importing package \n",
        "\n",
        "from tensorflow.keras.layers import Embedding\n",
        "from tensorflow.keras.preprocessing.sequence import pad_sequences\n",
        "from tensorflow.keras.models import Sequential\n",
        "from tensorflow.keras.preprocessing.text import one_hot\n",
        "from tensorflow.keras.layers import LSTM\n",
        "from tensorflow.keras.layers import Dense"
      ],
      "execution_count": null,
      "outputs": []
    },
    {
      "cell_type": "code",
      "metadata": {
        "id": "4d2IQ2Loz1nb"
      },
      "source": [
        "### Vocabulary size\n",
        "voc_size=5000"
      ],
      "execution_count": null,
      "outputs": []
    },
    {
      "cell_type": "code",
      "metadata": {
        "id": "ExqvvxlZ1CpP"
      },
      "source": [
        "### Onehot Representation\n",
        "\n",
        "messages=X.copy()\n",
        "\n",
        "messages['title'][1]"
      ],
      "execution_count": null,
      "outputs": []
    },
    {
      "cell_type": "code",
      "metadata": {
        "id": "A0V16JvA1QAg"
      },
      "source": [
        "messages.reset_index(inplace=True)"
      ],
      "execution_count": null,
      "outputs": []
    },
    {
      "cell_type": "code",
      "metadata": {
        "id": "I4dy5Tn11YnZ"
      },
      "source": [
        "# importing packages required for data preprocessing\n",
        "\n",
        "import nltk\n",
        "import re\n",
        "from nltk.corpus import stopwords"
      ],
      "execution_count": null,
      "outputs": []
    },
    {
      "cell_type": "code",
      "metadata": {
        "id": "3yZgbJYE2A_W"
      },
      "source": [
        "nltk.download('stopwords')"
      ],
      "execution_count": null,
      "outputs": []
    },
    {
      "cell_type": "code",
      "metadata": {
        "id": "3y1skK1j2E5j"
      },
      "source": [
        "### Dataset Preprocessing\n",
        "from nltk.stem.porter import PorterStemmer\n",
        "ps = PorterStemmer()\n",
        "corpus = []\n",
        "for i in range(0, len(messages)):\n",
        "    print(i)\n",
        "    review = re.sub('[^a-zA-Z]', ' ', messages['title'][i])\n",
        "    review = review.lower()\n",
        "    review = review.split()\n",
        "    \n",
        "    review = [ps.stem(word) for word in review if not word in stopwords.words('english')]\n",
        "    review = ' '.join(review)\n",
        "    corpus.append(review)"
      ],
      "execution_count": null,
      "outputs": []
    },
    {
      "cell_type": "code",
      "metadata": {
        "id": "hXOZI6_t2J3A"
      },
      "source": [
        "corpus"
      ],
      "execution_count": null,
      "outputs": []
    },
    {
      "cell_type": "code",
      "metadata": {
        "id": "McyPd4W_-6uc"
      },
      "source": [
        "### one hot representation\n",
        "onehot_repr = [one_hot(words,voc_size)for words in corpus]\n",
        "onehot_repr"
      ],
      "execution_count": null,
      "outputs": []
    },
    {
      "cell_type": "markdown",
      "metadata": {
        "id": "LRFckmhM_eVK"
      },
      "source": [
        "Embedding Representation"
      ]
    },
    {
      "cell_type": "code",
      "metadata": {
        "id": "QGc3n-2-_foJ"
      },
      "source": [
        "# fix the lenght beacuse all sentences are not equal length\n",
        "sen_length=20\n",
        "embede_docs = pad_sequences(onehot_repr,padding='pre',maxlen=sen_length)\n",
        "print(embede_docs)"
      ],
      "execution_count": null,
      "outputs": []
    },
    {
      "cell_type": "markdown",
      "metadata": {
        "id": "tgjOV_EBHg7X"
      },
      "source": [
        ""
      ]
    },
    {
      "cell_type": "markdown",
      "metadata": {
        "id": "oQiKABPkCGe6"
      },
      "source": [
        "Creating model"
      ]
    },
    {
      "cell_type": "code",
      "metadata": {
        "id": "eulZV5tvAu4j"
      },
      "source": [
        "embeding_vector_feature = 40\n",
        "model = Sequential()\n",
        "model.add(Embedding(voc_size,embeding_vector_feature,input_length=sen_length))\n",
        "model.add(LSTM(100))\n",
        "model.add(Dense(1,activation='sigmoid'))\n",
        "model.compile(loss='binary_crossentropy',optimizer='adam',metrics=['accuracy'])\n",
        "print(model.summary())\n"
      ],
      "execution_count": null,
      "outputs": []
    },
    {
      "cell_type": "code",
      "metadata": {
        "id": "XA4Wy4WKC6ZD"
      },
      "source": [
        "len(embede_docs),y.shape"
      ],
      "execution_count": null,
      "outputs": []
    },
    {
      "cell_type": "code",
      "metadata": {
        "id": "92Iifqs_DifL"
      },
      "source": [
        "import numpy as np\n",
        "X_final=np.array(embede_docs)\n",
        "y_final=np.array(y)"
      ],
      "execution_count": null,
      "outputs": []
    },
    {
      "cell_type": "code",
      "metadata": {
        "id": "aWmnU1KIDsAg"
      },
      "source": [
        "\n",
        "X_final.shape,y_final.shape"
      ],
      "execution_count": null,
      "outputs": []
    },
    {
      "cell_type": "code",
      "metadata": {
        "id": "3Mgo0KR2Dye4"
      },
      "source": [
        "### splitting the data into train and test data\n",
        "from sklearn.model_selection import train_test_split\n",
        "X_train, X_test, y_train, y_test = train_test_split(X_final, y_final, test_size=0.30, random_state=42)"
      ],
      "execution_count": null,
      "outputs": []
    },
    {
      "cell_type": "markdown",
      "metadata": {
        "id": "Y2PsXy4cD_7p"
      },
      "source": [
        "Model Training"
      ]
    },
    {
      "cell_type": "code",
      "metadata": {
        "id": "ULxUBayFEBM3"
      },
      "source": [
        "model.fit(X_train,y_train,validation_data=(X_test,y_test),epochs=10,batch_size=64)"
      ],
      "execution_count": null,
      "outputs": []
    },
    {
      "cell_type": "markdown",
      "metadata": {
        "id": "i6hChpF2GF3b"
      },
      "source": [
        "\n",
        "**Adding Dropout**"
      ]
    },
    {
      "cell_type": "markdown",
      "metadata": {
        "id": "H_uZHfxCGhE6"
      },
      "source": [
        "Performance Metrics And Accuracy"
      ]
    },
    {
      "cell_type": "code",
      "metadata": {
        "id": "NxExzVFWGN9h"
      },
      "source": [
        "y_pred=model.predict_classes(X_test)"
      ],
      "execution_count": null,
      "outputs": []
    },
    {
      "cell_type": "code",
      "metadata": {
        "id": "kvyuKzmJGnMK"
      },
      "source": [
        "from sklearn.metrics import confusion_matrix"
      ],
      "execution_count": null,
      "outputs": []
    },
    {
      "cell_type": "code",
      "metadata": {
        "id": "rVjYyt6DGsVS"
      },
      "source": [
        "confusion_matrix(y_test,y_pred)"
      ],
      "execution_count": null,
      "outputs": []
    },
    {
      "cell_type": "code",
      "metadata": {
        "id": "PjHvu95bGuZl"
      },
      "source": [
        "from sklearn.metrics import accuracy_score\n",
        "accuracy_score(y_test,y_pred)"
      ],
      "execution_count": null,
      "outputs": []
    },
    {
      "cell_type": "code",
      "metadata": {
        "id": "ORVHImGfkgQk"
      },
      "source": [
        "from sklearn.metrics import classification_report\n",
        "print(classification_report(y_test,y_pred))"
      ],
      "execution_count": null,
      "outputs": []
    },
    {
      "cell_type": "markdown",
      "metadata": {
        "id": "Sk_P2k5FHmhF"
      },
      "source": [
        "Adding Dropout"
      ]
    },
    {
      "cell_type": "code",
      "metadata": {
        "id": "ZpccfgrRHoEK"
      },
      "source": [
        "from tensorflow.keras.layers import Dropout\n",
        "## Creating model\n",
        "embedding_vector_features=40\n",
        "model=Sequential()\n",
        "model.add(Embedding(voc_size,embedding_vector_features,input_length=sen_length))\n",
        "model.add(Dropout(0.3))\n",
        "model.add(LSTM(100))\n",
        "model.add(Dropout(0.3))\n",
        "model.add(Dense(1,activation='sigmoid'))\n",
        "model.compile(loss='binary_crossentropy',optimizer='adam',metrics=['accuracy'])"
      ],
      "execution_count": null,
      "outputs": []
    },
    {
      "cell_type": "code",
      "metadata": {
        "id": "c7G6z9XJHs_I"
      },
      "source": [
        "y_pred1=model.predict_classes(X_test)"
      ],
      "execution_count": null,
      "outputs": []
    },
    {
      "cell_type": "code",
      "metadata": {
        "id": "7iFbsLY2IDIt"
      },
      "source": [
        "confusion_matrix(y_test,y_pred1)"
      ],
      "execution_count": null,
      "outputs": []
    },
    {
      "cell_type": "code",
      "metadata": {
        "id": "7o8icso9IGfm"
      },
      "source": [
        "accuracy_score(y_test,y_pred1)"
      ],
      "execution_count": null,
      "outputs": []
    },
    {
      "cell_type": "code",
      "metadata": {
        "id": "C35bo6qcIKYp"
      },
      "source": [
        ""
      ],
      "execution_count": null,
      "outputs": []
    }
  ]
}